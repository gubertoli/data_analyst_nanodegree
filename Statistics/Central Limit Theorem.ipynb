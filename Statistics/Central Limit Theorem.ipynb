{
 "cells": [
  {
   "cell_type": "markdown",
   "metadata": {},
   "source": [
    "### Central Limit Theorem \n",
    "\n",
    "Work through the questions and use the created variables to answer the questions that follow below the notebook.\n",
    "\n",
    "Run the below cell to get started."
   ]
  },
  {
   "cell_type": "code",
   "execution_count": 1,
   "metadata": {},
   "outputs": [
    {
     "data": {
      "image/png": "[encoded data removed]",
      "text/plain": [
       "<matplotlib.figure.Figure at 0x7f853f23ff60>"
      ]
     },
     "metadata": {
      "needs_background": "light"
     },
     "output_type": "display_data"
    }
   ],
   "source": [
    "import numpy as np\n",
    "import matplotlib.pyplot as plt\n",
    "\n",
    "%matplotlib inline\n",
    "np.random.seed(42)\n",
    "\n",
    "pop_data = np.random.gamma(1,100,3000)\n",
    "plt.hist(pop_data);"
   ]
  },
  {
   "cell_type": "markdown",
   "metadata": {},
   "source": [
    "`1.` In order to create the sampling distribution for the average of 3 draws of this distribution, follow these steps:\n",
    "\n",
    "`a.` Use numpy's **random.choice** to simulate 3 draws from the `pop_data` array.   <br><br>\n",
    "`b.` Compute the mean of these 3 draws. <br><br>\n",
    "`c.` Write a loop to simulate this process 10,000 times, and store each mean into an array called **means_size_3**.<br><br>\n",
    "`d.` Plot a histogram of your sample means.<br><br>\n",
    "`e.` Use **means_size_3** and **pop_data** to answer the quiz questions below."
   ]
  },
  {
   "cell_type": "code",
   "execution_count": 2,
   "metadata": {},
   "outputs": [
    {
     "name": "stdout",
     "output_type": "stream",
     "text": [
      "132.498136105 106.107803535 109.994124438\n"
     ]
    }
   ],
   "source": [
    "draw1 = np.random.choice(pop_data, 50)\n",
    "draw2 = np.random.choice(pop_data, 100)\n",
    "draw3 = np.random.choice(pop_data, 200)\n",
    "print(draw1.mean(), draw2.mean(), draw3.mean())"
   ]
  },
  {
   "cell_type": "code",
   "execution_count": 19,
   "metadata": {},
   "outputs": [],
   "source": [
    "means_size_3 = []\n",
    "for i in range(0,10000):\n",
    "    draw1 = np.random.choice(pop_data, 50)\n",
    "    draw2 = np.random.choice(pop_data, 100)\n",
    "    draw3 = np.random.choice(pop_data, 200)\n",
    "    means_size_3.append([draw1.mean(), draw2.mean(), draw3.mean()])"
   ]
  },
  {
   "cell_type": "code",
   "execution_count": 28,
   "metadata": {},
   "outputs": [
    {
     "data": {
      "text/plain": [
       "(10000, 3)"
      ]
     },
     "execution_count": 28,
     "metadata": {},
     "output_type": "execute_result"
    }
   ],
   "source": [
    "means_size_3 = np.array(means_size_3)\n",
    "means_size_3.shape"
   ]
  },
  {
   "cell_type": "code",
   "execution_count": 35,
   "metadata": {},
   "outputs": [
    {
     "data": {
      "image/png": "[encoded data removed]",
      "text/plain": [
       "<matplotlib.figure.Figure at 0x7f853caadbe0>"
      ]
     },
     "metadata": {
      "needs_background": "light"
     },
     "output_type": "display_data"
    }
   ],
   "source": [
    "plt.hist(means_size_3[:,0]);\n",
    "plt.hist(means_size_3[:,1]);\n",
    "plt.hist(means_size_3[:,2]);\n",
    "plt.legend(['Draw 1', 'Draw 2', 'Draw 3']);"
   ]
  },
  {
   "cell_type": "code",
   "execution_count": 37,
   "metadata": {},
   "outputs": [
    {
     "data": {
      "image/png": "[encoded data removed]",
      "text/plain": [
       "<matplotlib.figure.Figure at 0x7f853c9c9c50>"
      ]
     },
     "metadata": {
      "needs_background": "light"
     },
     "output_type": "display_data"
    }
   ],
   "source": [
    "means_size_3 = []\n",
    "for _ in range(10000):\n",
    "    sample = np.random.choice(pop_data, 3)\n",
    "    means_size_3.append(sample.mean())\n",
    "    \n",
    "plt.hist(means_size_3);"
   ]
  },
  {
   "cell_type": "code",
   "execution_count": 41,
   "metadata": {},
   "outputs": [
    {
     "name": "stdout",
     "output_type": "stream",
     "text": [
      "100.359787008 99.7786018797\n"
     ]
    }
   ],
   "source": [
    "print(pop_data.mean(), pop_data.std())"
   ]
  },
  {
   "cell_type": "code",
   "execution_count": 42,
   "metadata": {},
   "outputs": [
    {
     "name": "stdout",
     "output_type": "stream",
     "text": [
      "99.3890196731 56.8681735148\n"
     ]
    }
   ],
   "source": [
    "means_size_3 = np.array(means_size_3)\n",
    "print(means_size_3.mean(), means_size_3.std())"
   ]
  },
  {
   "cell_type": "code",
   "execution_count": null,
   "metadata": {},
   "outputs": [],
   "source": []
  }
 ],
 "metadata": {
  "kernelspec": {
   "display_name": "Python 3",
   "language": "python",
   "name": "python3"
  },
  "language_info": {
   "codemirror_mode": {
    "name": "ipython",
    "version": 3
   },
   "file_extension": ".py",
   "mimetype": "text/x-python",
   "name": "python",
   "nbconvert_exporter": "python",
   "pygments_lexer": "ipython3",
   "version": "3.6.3"
  }
 },
 "nbformat": 4,
 "nbformat_minor": 2
}
